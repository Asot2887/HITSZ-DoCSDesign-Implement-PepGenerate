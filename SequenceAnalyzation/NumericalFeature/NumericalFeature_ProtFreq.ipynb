{
 "cells": [
  {
   "cell_type": "code",
   "execution_count": 22,
   "metadata": {},
   "outputs": [],
   "source": [
    "from utils.utils import *\n",
    "import matplotlib.pyplot as plt\n",
    "import utils.language_helpers as lh\n",
    "from utils.bio_utils import *\n",
    "import numpy as np"
   ]
  },
  {
   "cell_type": "code",
   "execution_count": 23,
   "metadata": {},
   "outputs": [],
   "source": [
    "codon_table = {\n",
    "    'ATA':'I', 'ATC':'I', 'ATT':'I', 'ATG':'M',\n",
    "    'ACA':'T', 'ACC':'T', 'ACG':'T', 'ACT':'T',\n",
    "    'AAC':'N', 'AAT':'N', 'AAA':'K', 'AAG':'K',\n",
    "    'AGC':'S', 'AGT':'S', 'AGA':'R', 'AGG':'R',\n",
    "    'CTA':'L', 'CTC':'L', 'CTG':'L', 'CTT':'L',\n",
    "    'CCA':'P', 'CCC':'P', 'CCG':'P', 'CCT':'P',\n",
    "    'CAC':'H', 'CAT':'H', 'CAA':'Q', 'CAG':'Q',\n",
    "    'CGA':'R', 'CGC':'R', 'CGG':'R', 'CGT':'R',\n",
    "    'GTA':'V', 'GTC':'V', 'GTG':'V', 'GTT':'V',\n",
    "    'GCA':'A', 'GCC':'A', 'GCG':'A', 'GCT':'A',\n",
    "    'GAC':'D', 'GAT':'D', 'GAA':'E', 'GAG':'E',\n",
    "    'GGA':'G', 'GGC':'G', 'GGG':'G', 'GGT':'G',\n",
    "    'TCA':'S', 'TCC':'S', 'TCG':'S', 'TCT':'S',\n",
    "    'TTC':'F', 'TTT':'F', 'TTA':'L', 'TTG':'L',\n",
    "    'TAC':'Y', 'TAT':'Y', 'TAA':'_', 'TAG':'_',\n",
    "    'TGC':'C', 'TGT':'C', 'TGA':'_', 'TGG':'W',\n",
    "}\n",
    "\n",
    "def countCorrectP(dna_seqs, verbose=False):\n",
    "    global codon_table\n",
    "    total = 0.0\n",
    "    correct = 0.0\n",
    "    for dna_seq in dna_seqs:\n",
    "        p_seq = \"\"\n",
    "        total += 1\n",
    "        if dna_seq[0:3] != 'ATG':\n",
    "            if verbose: print(\"Not valid gene (no ATG)\")\n",
    "            continue\n",
    "        for i in range(3, len(dna_seq), 3):\n",
    "            codon = dna_seq[i:i+3]\n",
    "            try:\n",
    "                aa = codon_table[codon]\n",
    "                p_seq += aa\n",
    "                if aa == '_': \n",
    "                    break\n",
    "            except:\n",
    "                if verbose: print(\"Error! Invalid Codon {} in {}\".format(codon, dna_seq))\n",
    "                break\n",
    "        if len(p_seq) <= 2: #needs to have stop codon and be of length greater than 2\n",
    "            if verbose: print(\"Error! Protein too short.\")\n",
    "        elif p_seq[-1] != '_':\n",
    "            if verbose: print(\"Error! No valid stop codon.\")\n",
    "        else:\n",
    "            correct+=1\n",
    "    return correct/total"
   ]
  },
  {
   "cell_type": "code",
   "execution_count": 24,
   "metadata": {},
   "outputs": [
    {
     "name": "stdout",
     "output_type": "stream",
     "text": [
      "['I', 'V', 'P', 'K', 'F', 'S', 'W', 'M', 'N', 'L', 'Y', 'H', 'T', 'A', 'E', 'R', '_', 'D', 'G', 'C', 'Q']\n"
     ]
    }
   ],
   "source": [
    "ite = [protein for (Nc,protein) in codon_table.items()] \n",
    "ite = list(set(ite))\n",
    "print(ite)"
   ]
  },
  {
   "cell_type": "code",
   "execution_count": 25,
   "metadata": {},
   "outputs": [],
   "source": [
    "def calFreq(ite,lines):\n",
    "    t_freq_dict = {}\n",
    "    for char in ite:\n",
    "        t_freq_dict[char] = 0.0\n",
    "    if len(lines)== 0:\n",
    "        return t_freq_dict\n",
    "    total = 0\n",
    "    for line in lines:\n",
    "        if len(line)!= 0:\n",
    "            for char in line:\n",
    "                t_freq_dict[char] += 1\n",
    "            total+=len(line)\n",
    "    \n",
    "    for char in ite:\n",
    "        t_freq_dict[char]/=total\n",
    "    return t_freq_dict  "
   ]
  },
  {
   "cell_type": "code",
   "execution_count": 26,
   "metadata": {},
   "outputs": [],
   "source": [
    "t_freq_pre = []\n",
    "for i in range(12400):\n",
    "    if i % 100 == 99:\n",
    "        path = './samples/realProt_50aa/sampled_val_{}.txt'.format(i)\n",
    "        lines = []\n",
    "        with open(path,'r') as f:\n",
    "            content = f.read()\n",
    "            lines = content.split('\\n')\n",
    "        lines = geneToProtein(lines,verbose=False)\n",
    "        t_freq_pre.append(calFreq(ite,lines))\n"
   ]
  },
  {
   "cell_type": "code",
   "execution_count": 27,
   "metadata": {},
   "outputs": [],
   "source": [
    "t_freq_fb = []\n",
    "for i in range(150):\n",
    "    path = './samples/fbgan_amp_demo/sample_val_{}.txt'.format(i+1)\n",
    "    lines = []\n",
    "    with open(path,'r') as f:\n",
    "        content = f.read()\n",
    "        lines = content.split('\\n')\n",
    "    lines = geneToProtein(lines,verbose=False)\n",
    "    t_freq_fb.append(calFreq(ite,lines))"
   ]
  },
  {
   "cell_type": "code",
   "execution_count": 28,
   "metadata": {},
   "outputs": [
    {
     "name": "stdout",
     "output_type": "stream",
     "text": [
      "loading dataset...\n",
      "('A', 'T', 'G', 'C', 'G', 'T', 'A', 'T', 'G', 'T', 'G', 'C', 'A', 'A', 'G', 'A', 'C', 'T', 'C', 'C', 'T', 'A', 'G', 'T', 'G', 'G', 'T', 'A', 'A', 'A', 'T', 'T', 'C', 'A', 'A', 'G', 'G', 'G', 'T', 'T', 'A', 'C', 'T', 'G', 'T', 'G', 'T', 'T', 'A', 'A', 'T', 'A', 'A', 'C', 'A', 'C', 'G', 'A', 'A', 'C', 'T', 'G', 'C', 'A', 'A', 'A', 'A', 'A', 'C', 'G', 'T', 'A', 'T', 'G', 'C', 'C', 'G', 'G', 'A', 'C', 'A', 'G', 'A', 'G', 'G', 'G', 'C', 'T', 'T', 'T', 'C', 'C', 'C', 'A', 'C', 'C', 'G', 'G', 'A', 'T', 'C', 'T', 'T', 'G', 'T', 'G', 'A', 'T', 'T', 'T', 'T', 'C', 'A', 'C', 'G', 'T', 'C', 'G', 'C', 'C', 'G', 'G', 'C', 'C', 'G', 'T', 'A', 'A', 'A', 'T', 'G', 'T', 'T', 'A', 'C', 'T', 'G', 'T', 'T', 'A', 'C', 'A', 'A', 'A', 'C', 'C', 'T', 'T', 'G', 'C', 'C', 'C', 'C', 'T', 'A', 'A')\n",
      "loaded 2048 lines in dataset\n"
     ]
    }
   ],
   "source": [
    "real_datas,_,__ = lh.load_dataset(max_length=156,max_n_examples=2048,data_dir='./data/AMP_dataset.fa')\n",
    "real_lines = []\n",
    "for data in real_datas:\n",
    "        line = ''\n",
    "        for char in data:\n",
    "                if char.isalpha():\n",
    "                        line += char\n",
    "        real_lines.append(line)\n",
    "real_lines = geneToProtein(real_lines,verbose=False)"
   ]
  },
  {
   "cell_type": "code",
   "execution_count": 29,
   "metadata": {},
   "outputs": [],
   "source": [
    "t_freq_real = [calFreq(ite,real_lines)] * len(t_freq_fb)"
   ]
  },
  {
   "cell_type": "code",
   "execution_count": 30,
   "metadata": {},
   "outputs": [],
   "source": [
    "freq_fb = {}\n",
    "freq_pre = {}\n",
    "freq_real = {}\n",
    "for char in ite:\n",
    "    freq_fb[char] = []\n",
    "    freq_pre[char] = []\n",
    "    freq_real[char] = []\n",
    "    for sample in t_freq_fb:\n",
    "        freq_fb[char].append(sample[char])\n",
    "    for sample in t_freq_pre:\n",
    "        freq_pre[char].append(sample[char])\n",
    "    for sample in t_freq_real:\n",
    "        freq_real[char].append(sample[char])"
   ]
  },
  {
   "cell_type": "code",
   "execution_count": 31,
   "metadata": {},
   "outputs": [],
   "source": [
    "plt.figure(figsize=(20,13))\n",
    "\n",
    "for char in ite:\n",
    "    plt.plot(freq_pre[char],label=char+' in pre',linewidth=3)\n",
    "    plt.plot(freq_real[char])\n",
    "\n",
    "plt.xlabel('Epoch')\n",
    "plt.ylim(bottom=0)\n",
    "plt.grid()\n",
    "plt.title('Percentage of aa per chain in pre train')\n",
    "plt.legend(loc='lower left')\n",
    "\n",
    "plt.savefig('./AMP/aaDis.png')"
   ]
  }
 ],
 "metadata": {
  "kernelspec": {
   "display_name": "Python 3.8.6 64-bit",
   "language": "python",
   "name": "python3"
  },
  "language_info": {
   "codemirror_mode": {
    "name": "ipython",
    "version": 3
   },
   "file_extension": ".py",
   "mimetype": "text/x-python",
   "name": "python",
   "nbconvert_exporter": "python",
   "pygments_lexer": "ipython3",
   "version": "3.8.6"
  },
  "orig_nbformat": 4,
  "vscode": {
   "interpreter": {
    "hash": "570feb405e2e27c949193ac68f46852414290d515b0ba6e5d90d076ed2284471"
   }
  }
 },
 "nbformat": 4,
 "nbformat_minor": 2
}
