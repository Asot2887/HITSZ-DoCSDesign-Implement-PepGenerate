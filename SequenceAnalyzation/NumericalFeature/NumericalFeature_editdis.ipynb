{
 "cells": [
  {
   "cell_type": "code",
   "execution_count": 1,
   "metadata": {},
   "outputs": [],
   "source": [
    "from utils.utils import *\n",
    "import matplotlib.pyplot as plt\n",
    "import utils.language_helpers as lh\n",
    "from utils.bio_utils import *\n",
    "import pandas as pd\n",
    "import numpy as np\n",
    "import random\n",
    "import numpy as np"
   ]
  },
  {
   "cell_type": "code",
   "execution_count": 2,
   "metadata": {},
   "outputs": [],
   "source": [
    "def load_gensamples(path):\n",
    "    with open(path,encoding='utf-8') as f:\n",
    "        content = f.read()\n",
    "        lines = content.split('\\n')\n",
    "        return lines"
   ]
  },
  {
   "cell_type": "code",
   "execution_count": 3,
   "metadata": {},
   "outputs": [
    {
     "name": "stdout",
     "output_type": "stream",
     "text": [
      "loading dataset...\n",
      "('A', 'T', 'G', 'C', 'A', 'G', 'C', 'T', 'G', 'C', 'C', 'T', 'A', 'T', 'A', 'T', 'G', 'C', 'G', 'G', 'T', 'G', 'A', 'G', 'A', 'C', 'G', 'T', 'G', 'T', 'G', 'T', 'C', 'C', 'T', 'T', 'G', 'G', 'G', 'G', 'G', 'A', 'T', 'G', 'C', 'T', 'A', 'C', 'A', 'C', 'G', 'C', 'C', 'G', 'A', 'A', 'T', 'T', 'G', 'C', 'C', 'G', 'T', 'T', 'G', 'C', 'C', 'A', 'A', 'T', 'A', 'C', 'C', 'C', 'C', 'A', 'T', 'T', 'T', 'G', 'C', 'G', 'T', 'C', 'C', 'G', 'T', 'T', 'A', 'G', '\\t', '1', 'P', 'P', 'P', 'P', 'P', 'P', 'P', 'P', 'P', 'P', 'P', 'P', 'P', 'P', 'P', 'P', 'P', 'P', 'P', 'P', 'P', 'P', 'P', 'P', 'P', 'P', 'P', 'P', 'P', 'P', 'P', 'P', 'P', 'P', 'P', 'P', 'P', 'P', 'P', 'P', 'P', 'P', 'P', 'P', 'P', 'P', 'P', 'P', 'P', 'P', 'P', 'P', 'P', 'P', 'P', 'P', 'P', 'P', 'P', 'P', 'P', 'P', 'P', 'P')\n",
      "loaded 5200 lines in dataset\n",
      "5200\n",
      "4930\n"
     ]
    }
   ],
   "source": [
    "#real sample\n",
    "real_datas,_,__ = lh.load_dataset(max_length=156,max_n_examples=8192,data_dir='./data/AMP_dataset.fa')\n",
    "real_lines = []\n",
    "for data in real_datas:\n",
    "        line = ''\n",
    "        for char in data:\n",
    "                if char.isalpha():\n",
    "                        line += char\n",
    "        real_lines.append(line)\n",
    "print(len(real_lines))\n",
    "\n",
    "real_p = geneToProtein(real_lines,verbose=False)\n",
    "\n",
    "print(len(real_p))\n"
   ]
  },
  {
   "cell_type": "code",
   "execution_count": 4,
   "metadata": {},
   "outputs": [
    {
     "name": "stdout",
     "output_type": "stream",
     "text": [
      "8193\n",
      "6476\n"
     ]
    }
   ],
   "source": [
    "#before train\n",
    "# pre_lines = []\n",
    "# for i in range(2000):\n",
    "#     j = i+10000\n",
    "#     if j % 100 == 99:\n",
    "#         path = './samples/realProt_50aa/sampled_{}.txt'.format(j)\n",
    "#         temp = load_gensamples(path)\n",
    "#         for line in temp:\n",
    "#             pre_lines.append(line)\n",
    "\n",
    "path = './LargeSample/pre_gen.txt'\n",
    "pre_lines = load_gensamples(path)\n",
    "print(len(pre_lines))\n",
    "\n",
    "pre_p = geneToProtein(pre_lines,verbose=False)\n",
    "\n",
    "print(len(pre_p))"
   ]
  },
  {
   "cell_type": "code",
   "execution_count": 5,
   "metadata": {},
   "outputs": [
    {
     "name": "stdout",
     "output_type": "stream",
     "text": [
      "8193\n",
      "6473\n"
     ]
    }
   ],
   "source": [
    "#after train\n",
    "# fb_lines = []\n",
    "# for i in range(10):\n",
    "#     path = './samples/fbgan_amp_demo/sampled_{}_preds.txt'.format(i+90)\n",
    "#     temp = load_gensamples(path)\n",
    "#     for line in temp:\n",
    "#         fb_lines.append(line)\n",
    "\n",
    "# fb_lines = load_gensamples('samples/fbgan_mode/sampled_120_preds.txt')\n",
    "# fb_lines = load_gensamples('samples/fbgan_amp_demo/sampled_98_preds.txt.txt')\n",
    "\n",
    "path = './LargeSample/fb_gen.txt'\n",
    "fb_lines = load_gensamples(path)\n",
    "print(len(fb_lines))\n",
    "\n",
    "fb_p = geneToProtein(fb_lines,verbose=False)\n",
    "\n",
    "print(len(fb_p))"
   ]
  },
  {
   "cell_type": "code",
   "execution_count": 6,
   "metadata": {},
   "outputs": [],
   "source": [
    "def calcNLD(str1,str2):\n",
    "\n",
    "    matrix = [[ i + j for j in range(len(str2) + 1)] for i in range(len(str1) + 1)]\n",
    "    for i in range(1, len(str1)+1):\n",
    "        for j in range(1, len(str2)+1):\n",
    "            if(str1[i-1] == str2[j-1]):\n",
    "                d = 0\n",
    "            else:\n",
    "                d = 1\n",
    "            matrix[i][j] = min(matrix[i-1][j]+1, matrix[i][j-1]+1, matrix[i-1][j-1]+d)\n",
    "    return float(matrix[len(str1)][len(str2)])/max(len(str1),len(str2))\n",
    "\n",
    "def calcNLDs(aim1,aim2):\n",
    "    LSDs = []\n",
    "    for line1 in aim1:\n",
    "        lsd = 0.0\n",
    "        cnt = 0.0\n",
    "        for line2 in aim2:\n",
    "            if line2 != '':\n",
    "                lsd += calcNLD(line1[0],line2[0])\n",
    "                cnt+=1\n",
    "        LSDs.append(lsd/cnt)\n",
    "        \n",
    "    return LSDs\n"
   ]
  },
  {
   "cell_type": "code",
   "execution_count": 7,
   "metadata": {},
   "outputs": [],
   "source": [
    "# from random import shuffle\n",
    "# from numpy import round,mean\n",
    "# shuffle(real_p)\n",
    "# shuffle(pre_p)\n",
    "# shuffle(fb_p)\n",
    "# real_p = real_p[0:500]\n",
    "# pre_p = pre_p[0:500]\n",
    "# fb_p = fb_p[0:500]\n",
    "\n",
    "# pre2real = calcNLDs(real_p,pre_p)\n",
    "\n",
    "# fb2real = calcNLDs(real_p,fb_p)\n",
    "\n",
    "# pre2real = round(pre2real)\n",
    "\n",
    "# fb2real = round(fb2real)\n",
    "\n",
    "\n",
    "# print(mean(pre2real))\n",
    "# print(mean(fb2real))\n"
   ]
  },
  {
   "cell_type": "code",
   "execution_count": 8,
   "metadata": {},
   "outputs": [],
   "source": [
    "# import pandas as pd \n",
    "# print(len(pre2real))\n",
    "# print(len(fb2real))\n",
    "# df = pd.DataFrame(\n",
    "#     pre2real,\n",
    "#     columns=['Pre-train']\n",
    "# )\n",
    "# df['Feedback train'] = fb2real\n",
    "\n",
    "# bin = 20\n",
    "# ax = df.plot.hist(figsize=(10,5),bins=bin, alpha=0.5)\n",
    "# fig = ax.get_figure()\n",
    "# fig.savefig('./AMP/EditDis.png')"
   ]
  },
  {
   "cell_type": "code",
   "execution_count": 9,
   "metadata": {},
   "outputs": [
    {
     "name": "stdout",
     "output_type": "stream",
     "text": [
      "0.8719352632595906\n",
      "0.8539201232697796\n",
      "0.8697558854187258\n",
      "0.8549816080878627\n",
      "0.8687077200510775\n",
      "0.8552186670726928\n",
      "0.8687720059470517\n",
      "0.8552844348806227\n",
      "0.8731515077731768\n",
      "0.8530544958332956\n",
      "0.8717635977214409\n",
      "0.8529169198310875\n",
      "0.8707618525303574\n",
      "0.854627270901703\n",
      "0.8692558977653868\n",
      "0.8507849165336981\n",
      "0.871839017874562\n",
      "0.8555927433831377\n",
      "0.8716014472275302\n",
      "0.8526813486117386\n",
      "0.8690815611342615\n",
      "0.8524404630229706\n",
      "0.8691482348084457\n",
      "0.8536214942093591\n",
      "0.8709798306161202\n",
      "0.8532445104132064\n",
      "0.8709808440244219\n",
      "0.8547420522790226\n",
      "0.8669876937184433\n",
      "0.8556936059962797\n"
     ]
    }
   ],
   "source": [
    "pre_df = pd.DataFrame(pre_p)\n",
    "fb_df = pd.DataFrame(fb_p)\n",
    "real_df = pd.DataFrame(real_p)\n",
    "rs = np.random.RandomState(12345)\n",
    "\n",
    "for i in range(5):\n",
    "    for j in range(3):\n",
    "        idxi = i+1\n",
    "        idxj = j+1\n",
    "        nowidx = idxi*10+idxj\n",
    "        seed = rs.randint(0,65536)\n",
    "        pre_sample = pre_df.sample(500,random_state=seed).values.tolist()\n",
    "        seed = rs.randint(0,65536)\n",
    "        fb_sample = fb_df.sample(500,random_state=seed).values.tolist()\n",
    "        seed = rs.randint(0,65536)\n",
    "        real_sample = real_df.sample(500,random_state=seed).values.tolist()\n",
    "        pre2real = calcNLDs(real_sample,pre_sample)\n",
    "        fb2real = calcNLDs(real_sample,fb_sample)\n",
    "        print(np.mean(pre2real))\n",
    "        print(np.mean(fb2real))\n",
    "        df = pd.DataFrame(\n",
    "                pre2real,\n",
    "                columns=['Pre-train']\n",
    "        )\n",
    "        df['Feedback train'] = fb2real\n",
    "        bin = 20\n",
    "        ax = df.plot.hist(figsize=(10,5),bins=bin, alpha=0.5)\n",
    "        fig = ax.get_figure()\n",
    "        fig.savefig('./AMP/EditDis{}.png'.format(nowidx))"
   ]
  }
 ],
 "metadata": {
  "kernelspec": {
   "display_name": "Python 3.8.13 ('swb')",
   "language": "python",
   "name": "python3"
  },
  "language_info": {
   "codemirror_mode": {
    "name": "ipython",
    "version": 3
   },
   "file_extension": ".py",
   "mimetype": "text/x-python",
   "name": "python",
   "nbconvert_exporter": "python",
   "pygments_lexer": "ipython3",
   "version": "3.8.13"
  },
  "orig_nbformat": 4,
  "vscode": {
   "interpreter": {
    "hash": "60bff9b272fedff1fa90ce0dbeee5551a5297cee346565f639bed6524c8875b2"
   }
  }
 },
 "nbformat": 4,
 "nbformat_minor": 2
}
